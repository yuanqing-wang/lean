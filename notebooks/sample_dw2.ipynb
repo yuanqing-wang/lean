{
 "cells": [
  {
   "cell_type": "code",
   "execution_count": 129,
   "metadata": {},
   "outputs": [
    {
     "name": "stdout",
     "output_type": "stream",
     "text": [
      "The autoreload extension is already loaded. To reload it, use:\n",
      "  %reload_ext autoreload\n"
     ]
    }
   ],
   "source": [
    "%load_ext autoreload\n",
    "%autoreload 2\n",
    "import jax\n",
    "import jax.numpy as jnp\n",
    "import sys\n",
    "import os\n",
    "from functools import partial\n",
    "import jax\n",
    "from jax import numpy as jnp\n",
    "import numpy as onp\n",
    "import math\n",
    "from lean.distributions import CenteredNormal\n",
    "from flax.core import FrozenDict"
   ]
  },
  {
   "cell_type": "code",
   "execution_count": 130,
   "metadata": {},
   "outputs": [],
   "source": [
    "import os\n",
    "os.sys.path.append('/Users/yuanqingwang/Documents/GitHub/lean')"
   ]
  },
  {
   "cell_type": "code",
   "execution_count": 131,
   "metadata": {},
   "outputs": [],
   "source": [
    "def potential(\n",
    "        x, \n",
    "        tao=1.0, \n",
    "        a=0.0, \n",
    "        b=-4.0, \n",
    "        c=0.9, \n",
    "        d0=4.0,\n",
    "        **kwargs,\n",
    "):\n",
    "    x = x[..., :, None, :] - x[..., None, :, :]\n",
    "    x = (x ** 2).sum(-1) + 1e-10\n",
    "    x = x ** 0.5\n",
    "\n",
    "    energy = (1 / (2 * tao)) * (\n",
    "        a * (x - d0)\n",
    "        + b * (x - d0) ** 2\n",
    "        + c * (x - d0) ** 4\n",
    "    )\n",
    "    return energy\n",
    "\n",
    "def cos(t):\n",
    "    return jnp.cos(0.5 * t / math.pi)\n",
    "\n",
    "def sin(t):\n",
    "    return jnp.sin(0.5 * t / math.pi)\n",
    "\n",
    "def coefficient(t, a, b):\n",
    "    return jax.scipy.special.betainc(a, b, t)\n",
    "\n",
    "def ess(log_w):\n",
    "    # normalize\n",
    "    w = jax.nn.softmax(log_w)\n",
    "    ess = 1 / (w ** 2).sum()\n",
    "    return ess\n",
    "\n",
    "def time_dependent_potential(\n",
    "        x, \n",
    "        tao=1.0, \n",
    "        a=0.0, \n",
    "        b=-4.0, \n",
    "        c=0.9, \n",
    "        d0=4.0,\n",
    "        time=0.0,\n",
    "        schedule_gaussian=None,\n",
    "        schedule_a=None,\n",
    "        schedule_b=None,\n",
    "        schedule_c=None,\n",
    "        log_sigma=None,\n",
    "\n",
    "):\n",
    "    # gaussian_potential = jax.scipy.stats.norm.logpdf(x, scale=scale).sum(-1).sum(-1).mean()\n",
    "\n",
    "    gaussian_potential = CenteredNormal(log_sigma).log_prob(x).sum(-1).sum(-1).mean()\n",
    "    gaussian_potential = (1 - schedule_gaussian(time)) * gaussian_potential\n",
    "\n",
    "    x = x[..., :, None, :] - x[..., None, :, :]\n",
    "    x = (x ** 2).sum(-1) + 1e-10\n",
    "    x = x ** 0.5\n",
    "    x = x.reshape(*x.shape[:-2], -1)\n",
    "    a_term = a * (x - d0)\n",
    "    b_term = b * (x - d0) ** 2\n",
    "    c_term = c * (x - d0) ** 4\n",
    "\n",
    "    a_term = a_term * schedule_a(time)\n",
    "    b_term = b_term * schedule_b(time)\n",
    "    c_term = c_term * schedule_c(time)\n",
    "    energy = (1 / (2 * tao)) * (a_term + b_term + c_term).sum(-1).mean()\n",
    "    energy = energy + gaussian_potential\n",
    "    return energy\n",
    "\n",
    "@partial(jax.jit, static_argnums=(1, 3))\n",
    "def compute_log_w(schedules, sampler_params, key, model):\n",
    "    schedule_gaussian, schedule_a, schedule_b, schedule_c, nn_params = schedules\n",
    "    key, key_x, key_v = jax.random.split(key, 3)\n",
    "    x = CenteredNormal(0.0).sample(key_x, (N_PARTICLES, 2, 1))\n",
    "    h = jnp.zeros((N_PARTICLES, 2, 1))\n",
    "    h, v = model.apply(nn_params, h, x)"
   ]
  },
  {
   "cell_type": "code",
   "execution_count": 132,
   "metadata": {},
   "outputs": [
    {
     "data": {
      "text/plain": [
       "[<matplotlib.lines.Line2D at 0x288633b60>]"
      ]
     },
     "execution_count": 132,
     "metadata": {},
     "output_type": "execute_result"
    },
    {
     "data": {
      "image/png": "[encoded data removed]",
      "text/plain": [
       "<Figure size 640x480 with 1 Axes>"
      ]
     },
     "metadata": {},
     "output_type": "display_data"
    }
   ],
   "source": [
    "from matplotlib import pyplot as plt\n",
    "x0 = jnp.linspace(0, 10, 100)\n",
    "x1 = jnp.zeros_like(x0)\n",
    "x = jnp.stack([x0, x1], axis=-1)[..., :, None]\n",
    "\n",
    "plt.plot(\n",
    "    x0,\n",
    "    jnp.exp(-potential(x)).sum(-1).sum(-1),\n",
    ")"
   ]
  },
  {
   "cell_type": "code",
   "execution_count": 135,
   "metadata": {},
   "outputs": [],
   "source": [
    "position = jax.random.normal(\n",
    "    jax.random.PRNGKey(0),\n",
    "    shape=(1000, 2, 1),\n",
    ")\n",
    "momentum = jnp.zeros_like(position)\n",
    "position = position - position.mean(-2, keepdims=True)\n",
    "momentum = momentum - momentum.mean(-2, keepdims=True)\n",
    "\n",
    "from lean.schedules import SinRBFSchedule\n",
    "schedule_gaussian = SinRBFSchedule.init(jax.random.PRNGKey(1), 100)\n",
    "schedule_a = SinRBFSchedule.init(jax.random.PRNGKey(2), 100)\n",
    "schedule_b = SinRBFSchedule.init(jax.random.PRNGKey(3), 100)\n",
    "schedule_c = SinRBFSchedule.init(jax.random.PRNGKey(4), 100)\n",
    "schedules = [schedule_gaussian, schedule_a, schedule_b, schedule_c]\n",
    "\n",
    "_time_dependent_potential = partial(\n",
    "    time_dependent_potential,\n",
    "    schedule_gaussian=schedule_gaussian,\n",
    "    schedule_a=schedule_a,\n",
    "    schedule_b=schedule_b,\n",
    "    schedule_c=schedule_c,\n",
    "    log_sigma=0.0,\n",
    ")\n",
    "\n",
    "from lean.samplers import LangevinDynamics, HamiltonianMonteCarlo\n",
    "sampler = LangevinDynamics(_time_dependent_potential, step_size=1e-2, time=10)\n",
    "position, momentum, deltaS = sampler(position, momentum, key=jax.random.PRNGKey(0))\n"
   ]
  },
  {
   "cell_type": "code",
   "execution_count": 136,
   "metadata": {},
   "outputs": [
    {
     "data": {
      "text/plain": [
       "<Axes: ylabel='Density'>"
      ]
     },
     "execution_count": 136,
     "metadata": {},
     "output_type": "execute_result"
    },
    {
     "data": {
      "image/png": "[encoded data removed]",
      "text/plain": [
       "<Figure size 640x480 with 1 Axes>"
      ]
     },
     "metadata": {},
     "output_type": "display_data"
    }
   ],
   "source": [
    "import seaborn as sns\n",
    "sns.kdeplot(jnp.abs(position[:,0, 0] - position[:,1, 0]))"
   ]
  },
  {
   "cell_type": "code",
   "execution_count": 83,
   "metadata": {},
   "outputs": [
    {
     "data": {
      "text/plain": [
       "Array(2.0440788, dtype=float32)"
      ]
     },
     "execution_count": 83,
     "metadata": {},
     "output_type": "execute_result"
    }
   ],
   "source": [
    "jnp.abs(position[:,0, 0] - position[:,1, 0]).mean()"
   ]
  },
  {
   "cell_type": "code",
   "execution_count": 84,
   "metadata": {},
   "outputs": [
    {
     "data": {
      "text/plain": [
       "Array([[[ 0.6048788 ],\n",
       "        [-0.60487866]],\n",
       "\n",
       "       [[-2.0478845 ],\n",
       "        [ 2.0478847 ]],\n",
       "\n",
       "       [[-1.7825423 ],\n",
       "        [ 1.7825423 ]],\n",
       "\n",
       "       ...,\n",
       "\n",
       "       [[-1.41065   ],\n",
       "        [ 1.4106498 ]],\n",
       "\n",
       "       [[ 0.47545058],\n",
       "        [-0.47545046]],\n",
       "\n",
       "       [[ 2.0175488 ],\n",
       "        [-2.017549  ]]], dtype=float32)"
      ]
     },
     "execution_count": 84,
     "metadata": {},
     "output_type": "execute_result"
    }
   ],
   "source": [
    "position"
   ]
  },
  {
   "cell_type": "code",
   "execution_count": null,
   "metadata": {},
   "outputs": [],
   "source": []
  }
 ],
 "metadata": {
  "kernelspec": {
   "display_name": "mudslide",
   "language": "python",
   "name": "python3"
  },
  "language_info": {
   "codemirror_mode": {
    "name": "ipython",
    "version": 3
   },
   "file_extension": ".py",
   "mimetype": "text/x-python",
   "name": "python",
   "nbconvert_exporter": "python",
   "pygments_lexer": "ipython3",
   "version": "3.12.4"
  }
 },
 "nbformat": 4,
 "nbformat_minor": 2
}
